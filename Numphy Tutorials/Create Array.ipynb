{
 "cells": [
  {
   "cell_type": "markdown",
   "id": "7e8ed2ab-c4ab-4b11-b1ca-8e338f6dbb96",
   "metadata": {},
   "source": [
    "# Array Creation"
   ]
  },
  {
   "cell_type": "code",
   "execution_count": 9,
   "id": "5a8479a0-18c0-4bda-aa83-401cd608b526",
   "metadata": {},
   "outputs": [
    {
     "data": {
      "text/plain": [
       "array([1, 2, 3])"
      ]
     },
     "execution_count": 9,
     "metadata": {},
     "output_type": "execute_result"
    }
   ],
   "source": [
    "import numpy as np\n",
    "a=np.array([1,2,3],dtype='int')\n",
    "a"
   ]
  },
  {
   "cell_type": "code",
   "execution_count": 8,
   "id": "c23df5fe-73a3-40d7-9655-49b3d2991c28",
   "metadata": {},
   "outputs": [
    {
     "data": {
      "text/plain": [
       "array([[0., 0.],\n",
       "       [0., 0.]])"
      ]
     },
     "execution_count": 8,
     "metadata": {},
     "output_type": "execute_result"
    }
   ],
   "source": [
    "b=np.zeros((2,2),dtype='float') #each element this array is 0\n",
    "b"
   ]
  },
  {
   "cell_type": "code",
   "execution_count": 10,
   "id": "196c9750-06f0-436b-97ac-58fb09369487",
   "metadata": {},
   "outputs": [
    {
     "data": {
      "text/plain": [
       "array([[0., 0., 0.],\n",
       "       [0., 0., 0.],\n",
       "       [0., 0., 0.]])"
      ]
     },
     "execution_count": 10,
     "metadata": {},
     "output_type": "execute_result"
    }
   ],
   "source": [
    "c=np.zeros((3,3),dtype='float')  ##each element this array is float\n",
    "c"
   ]
  },
  {
   "cell_type": "code",
   "execution_count": 12,
   "id": "389f2f95-8efb-4d39-9d62-e8cdedd18074",
   "metadata": {},
   "outputs": [
    {
     "data": {
      "text/plain": [
       "array([[1, 1, 1],\n",
       "       [1, 1, 1],\n",
       "       [1, 1, 1]])"
      ]
     },
     "execution_count": 12,
     "metadata": {},
     "output_type": "execute_result"
    }
   ],
   "source": [
    "ones=np.ones((3,3),dtype='int') #each element this array is 1\n",
    "ones"
   ]
  },
  {
   "cell_type": "code",
   "execution_count": 14,
   "id": "c6a9f5da-8036-410d-9df7-fcf1efdb9298",
   "metadata": {},
   "outputs": [
    {
     "data": {
      "text/plain": [
       "array([[5, 5, 5],\n",
       "       [5, 5, 5],\n",
       "       [5, 5, 5]])"
      ]
     },
     "execution_count": 14,
     "metadata": {},
     "output_type": "execute_result"
    }
   ],
   "source": [
    "full=np.full((3,3),5) #each element this array is 5\n",
    "full"
   ]
  },
  {
   "cell_type": "code",
   "execution_count": 17,
   "id": "308e5fc3-1fbc-44bc-97d0-05ff37964721",
   "metadata": {},
   "outputs": [
    {
     "data": {
      "text/plain": [
       "array([[1, 0],\n",
       "       [0, 1]])"
      ]
     },
     "execution_count": 17,
     "metadata": {},
     "output_type": "execute_result"
    }
   ],
   "source": [
    "identity=np.identity(2,dtype='int') #in identify matrix row and columns are same\n",
    "identity"
   ]
  },
  {
   "cell_type": "code",
   "execution_count": 22,
   "id": "4780e323-f1a3-477f-a807-ba5f5e4cf8b9",
   "metadata": {},
   "outputs": [
    {
     "data": {
      "text/plain": [
       "array([[1, 0, 0],\n",
       "       [0, 1, 0],\n",
       "       [0, 0, 1]])"
      ]
     },
     "execution_count": 22,
     "metadata": {},
     "output_type": "execute_result"
    }
   ],
   "source": [
    "eye=np.eye(3,3,dtype='int') #k=0 is set in initially\n",
    "eye"
   ]
  },
  {
   "cell_type": "code",
   "execution_count": 20,
   "id": "5e34c391-e6f1-43d0-80b4-d6b0cf596bc5",
   "metadata": {},
   "outputs": [
    {
     "data": {
      "text/plain": [
       "array([[0., 1., 0.],\n",
       "       [0., 0., 1.],\n",
       "       [0., 0., 0.]])"
      ]
     },
     "execution_count": 20,
     "metadata": {},
     "output_type": "execute_result"
    }
   ],
   "source": [
    "eye=np.eye(3,3,1) #when k=1 the element 1 moves one side to the right \n",
    "eye"
   ]
  },
  {
   "cell_type": "code",
   "execution_count": 21,
   "id": "851cb9d7-f46f-4b46-bc16-e8e8310b5fee",
   "metadata": {},
   "outputs": [
    {
     "data": {
      "text/plain": [
       "array([[0., 0., 0.],\n",
       "       [1., 0., 0.],\n",
       "       [0., 1., 0.]])"
      ]
     },
     "execution_count": 21,
     "metadata": {},
     "output_type": "execute_result"
    }
   ],
   "source": [
    "eye=np.eye(3,3,-1) #when k=1 the element 1 moves one side to the left\n",
    "eye\n"
   ]
  },
  {
   "cell_type": "code",
   "execution_count": 24,
   "id": "e1e343b7-5069-4c48-9f8f-e0e5b7468d68",
   "metadata": {},
   "outputs": [
    {
     "data": {
      "text/plain": [
       "array([1, 3, 5, 7, 9])"
      ]
     },
     "execution_count": 24,
     "metadata": {},
     "output_type": "execute_result"
    }
   ],
   "source": [
    "arrange=np.arange(1,10,2) #start =1 ,last=10,range =2\n",
    "arrange"
   ]
  },
  {
   "cell_type": "code",
   "execution_count": 25,
   "id": "435de100-6392-41b8-825e-443ab8f56a97",
   "metadata": {},
   "outputs": [
    {
     "data": {
      "text/plain": [
       "array([ 1.,  2.,  3.,  4.,  5.,  6.,  7.,  8.,  9., 10.])"
      ]
     },
     "execution_count": 25,
     "metadata": {},
     "output_type": "execute_result"
    }
   ],
   "source": [
    "linspace=np.linspace(1,10,10) #start 1,last =10,number =10\n",
    "linspace"
   ]
  },
  {
   "cell_type": "code",
   "execution_count": 26,
   "id": "7fb5031f-7032-4e22-baac-60aefde01cb7",
   "metadata": {},
   "outputs": [
    {
     "data": {
      "text/plain": [
       "10"
      ]
     },
     "execution_count": 26,
     "metadata": {},
     "output_type": "execute_result"
    }
   ],
   "source": [
    "linspace.size #to check the size of it\n"
   ]
  },
  {
   "cell_type": "code",
   "execution_count": 27,
   "id": "5e0c75eb-1640-4a6a-a663-80f82c6b4027",
   "metadata": {},
   "outputs": [
    {
     "data": {
      "text/plain": [
       "array([[2.12199579e-314, 1.31988138e-311, 8.26077760e-321,\n",
       "        6.95187041e-310, 0.00000000e+000]])"
      ]
     },
     "execution_count": 27,
     "metadata": {},
     "output_type": "execute_result"
    }
   ],
   "source": [
    "empty=np.empty((1,5)) #creates an uninitialized array with 1 row and 5 columns.\n",
    "empty"
   ]
  },
  {
   "cell_type": "code",
   "execution_count": 28,
   "id": "d821ad44-7de4-4f32-a769-fbe60cad234e",
   "metadata": {},
   "outputs": [
    {
     "name": "stdout",
     "output_type": "stream",
     "text": [
      "[0 1 2 3 4 5 6 7 8 9]\n"
     ]
    }
   ],
   "source": [
    "# Initialize an empty array of size 10\n",
    "array_data = np.empty(10, dtype='int')\n",
    "# Use a for loop to populate the array\n",
    "for i in range(10):\n",
    "    array_data[i] = i\n",
    "\n",
    "print(array_data)\n"
   ]
  },
  {
   "cell_type": "code",
   "execution_count": null,
   "id": "09aca2a7-d34a-4d50-8a59-8b1cb7f914ae",
   "metadata": {},
   "outputs": [],
   "source": []
  }
 ],
 "metadata": {
  "kernelspec": {
   "display_name": "Python 3 (ipykernel)",
   "language": "python",
   "name": "python3"
  },
  "language_info": {
   "codemirror_mode": {
    "name": "ipython",
    "version": 3
   },
   "file_extension": ".py",
   "mimetype": "text/x-python",
   "name": "python",
   "nbconvert_exporter": "python",
   "pygments_lexer": "ipython3",
   "version": "3.12.7"
  }
 },
 "nbformat": 4,
 "nbformat_minor": 5
}
