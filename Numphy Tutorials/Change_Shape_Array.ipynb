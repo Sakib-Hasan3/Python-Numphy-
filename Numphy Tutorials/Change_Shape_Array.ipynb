{
 "cells": [
  {
   "cell_type": "markdown",
   "id": "6f1ba713-c05f-4de6-ba57-eaf58eb5fb58",
   "metadata": {},
   "source": [
    "# Chaqnge Shape"
   ]
  },
  {
   "cell_type": "code",
   "execution_count": 3,
   "id": "43e7659f-66c7-4536-92e6-b96de72b246e",
   "metadata": {},
   "outputs": [
    {
     "name": "stdout",
     "output_type": "stream",
     "text": [
      "originial array \n",
      "reshape array:\n"
     ]
    },
    {
     "data": {
      "text/plain": [
       "array([[1, 2, 3],\n",
       "       [4, 5, 6]])"
      ]
     },
     "execution_count": 3,
     "metadata": {},
     "output_type": "execute_result"
    }
   ],
   "source": [
    "import numpy as np\n",
    "\n",
    "a=np.array([1,2,3,4,5,6])\n",
    "print(\"originial array \")\n",
    "a\n",
    "\n",
    "b=a.reshape(2,3)  #reshape () is used to reshape the array without changing the data\n",
    "print(\"reshape array:\")\n",
    "b"
   ]
  },
  {
   "cell_type": "code",
   "execution_count": 10,
   "id": "063ea9a4-57f4-454d-a64f-32908988538a",
   "metadata": {},
   "outputs": [
    {
     "name": "stdout",
     "output_type": "stream",
     "text": [
      "1 2 3 4 5 6 Element at flat index 0: 1\n",
      "Element at flat index 5: 6\n"
     ]
    }
   ],
   "source": [
    "for element in b.flat: #flat is used to iterate over or access elements in a multidimensional array\n",
    "    print(element, end=\" \")\n",
    "\n",
    "print(\"Element at flat index 0:\", b.flat[0])  # First element\n",
    "print(\"Element at flat index 5:\", b.flat[5])  # Last element\n"
   ]
  },
  {
   "cell_type": "code",
   "execution_count": 12,
   "id": "30d87d88-77cd-421e-ae24-874e12672e9c",
   "metadata": {},
   "outputs": [
    {
     "name": "stdout",
     "output_type": "stream",
     "text": [
      "Original 2D Array:\n",
      "[[1 2 3]\n",
      " [4 5 6]]\n",
      "\n",
      "Flattened Array:\n"
     ]
    },
    {
     "data": {
      "text/plain": [
       "array([1, 2, 3, 4, 5, 6])"
      ]
     },
     "execution_count": 12,
     "metadata": {},
     "output_type": "execute_result"
    }
   ],
   "source": [
    "#flatten() method \n",
    "c= np.array([[1, 2, 3],\n",
    "                     [4, 5, 6]])\n",
    "\n",
    "print(\"Original 2D Array:\")\n",
    "print(c)\n",
    "\n",
    "# Use the flatten() method\n",
    "d = c.flatten()\n",
    "\n",
    "print(\"\\nFlattened Array:\")\n",
    "d\n"
   ]
  },
  {
   "cell_type": "code",
   "execution_count": 13,
   "id": "b176f51e-43eb-4ce2-aa8e-63cd0962ed01",
   "metadata": {},
   "outputs": [
    {
     "name": "stdout",
     "output_type": "stream",
     "text": [
      "Original 2D Array:\n",
      "[[7 8 9]\n",
      " [4 5 6]]\n",
      "\n",
      "Raveled Array:\n",
      "[7 8 9 4 5 6]\n"
     ]
    }
   ],
   "source": [
    "#used to flatten a multi-dimensional array into a 1D array\n",
    "\n",
    "m = np.array([[7,8,9],\n",
    "                     [4, 5, 6]])\n",
    "\n",
    "print(\"Original 2D Array:\")\n",
    "print(m)\n",
    "\n",
    "n = m.ravel()\n",
    "\n",
    "print(\"\\nRaveled Array:\")\n",
    "print(n)\n"
   ]
  },
  {
   "cell_type": "code",
   "execution_count": null,
   "id": "39dabdd7-f633-416c-93ea-aa957d312fd4",
   "metadata": {},
   "outputs": [],
   "source": []
  }
 ],
 "metadata": {
  "kernelspec": {
   "display_name": "Python 3 (ipykernel)",
   "language": "python",
   "name": "python3"
  },
  "language_info": {
   "codemirror_mode": {
    "name": "ipython",
    "version": 3
   },
   "file_extension": ".py",
   "mimetype": "text/x-python",
   "name": "python",
   "nbconvert_exporter": "python",
   "pygments_lexer": "ipython3",
   "version": "3.12.7"
  }
 },
 "nbformat": 4,
 "nbformat_minor": 5
}
