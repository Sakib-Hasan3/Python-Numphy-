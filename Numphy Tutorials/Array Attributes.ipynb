{
 "cells": [
  {
   "cell_type": "markdown",
   "id": "07551f15-be60-44c2-91dd-77be780e8c91",
   "metadata": {},
   "source": [
    "# Importing Library"
   ]
  },
  {
   "cell_type": "code",
   "execution_count": 4,
   "id": "84763b1e-168d-42fa-9df5-9c2ce24048a2",
   "metadata": {},
   "outputs": [],
   "source": [
    "import numpy as np"
   ]
  },
  {
   "cell_type": "markdown",
   "id": "6f5ba424-c428-40d8-9523-bd2fd7be4192",
   "metadata": {},
   "source": [
    "# Array Attributes"
   ]
  },
  {
   "cell_type": "code",
   "execution_count": 5,
   "id": "5a184247-287b-4fbd-9d66-292dbe77656f",
   "metadata": {},
   "outputs": [
    {
     "data": {
      "text/plain": [
       "array([1, 2, 3])"
      ]
     },
     "execution_count": 5,
     "metadata": {},
     "output_type": "execute_result"
    }
   ],
   "source": [
    "a = np.array ([1,2,3]) #1-d array vector\n",
    "a"
   ]
  },
  {
   "cell_type": "code",
   "execution_count": 6,
   "id": "3d3c12ac-9caa-47b4-912b-782e2bbfc6ab",
   "metadata": {},
   "outputs": [
    {
     "data": {
      "text/plain": [
       "numpy.ndarray"
      ]
     },
     "execution_count": 6,
     "metadata": {},
     "output_type": "execute_result"
    }
   ],
   "source": [
    "type(a) #array type"
   ]
  },
  {
   "cell_type": "code",
   "execution_count": 7,
   "id": "886c4fba-3129-4f30-a28e-4cfb8f824e9a",
   "metadata": {},
   "outputs": [
    {
     "data": {
      "text/plain": [
       "(3,)"
      ]
     },
     "execution_count": 7,
     "metadata": {},
     "output_type": "execute_result"
    }
   ],
   "source": [
    "a.shape #array shape"
   ]
  },
  {
   "cell_type": "code",
   "execution_count": 20,
   "id": "26fc9b7e-ed71-4d67-b572-6769478d740f",
   "metadata": {},
   "outputs": [
    {
     "data": {
      "text/plain": [
       "1"
      ]
     },
     "execution_count": 20,
     "metadata": {},
     "output_type": "execute_result"
    }
   ],
   "source": [
    "a.ndim #array dimension"
   ]
  },
  {
   "cell_type": "code",
   "execution_count": 10,
   "id": "0bb7fba7-f385-471e-89fa-64174fc5ea75",
   "metadata": {},
   "outputs": [],
   "source": [
    "b =np.array([[1,2,3],[4,5,6]]) #2-dimensional array"
   ]
  },
  {
   "cell_type": "code",
   "execution_count": 11,
   "id": "f175c986-5fe2-40d1-9d3a-3ade43025445",
   "metadata": {},
   "outputs": [
    {
     "data": {
      "text/plain": [
       "numpy.ndarray"
      ]
     },
     "execution_count": 11,
     "metadata": {},
     "output_type": "execute_result"
    }
   ],
   "source": [
    "type(b)  #array type"
   ]
  },
  {
   "cell_type": "code",
   "execution_count": 12,
   "id": "88b9ddca-4585-4639-b5f3-2301fd3238e3",
   "metadata": {},
   "outputs": [
    {
     "data": {
      "text/plain": [
       "2"
      ]
     },
     "execution_count": 12,
     "metadata": {},
     "output_type": "execute_result"
    }
   ],
   "source": [
    "b.ndim #array dimension"
   ]
  },
  {
   "cell_type": "code",
   "execution_count": 13,
   "id": "a6b7940f-1cab-405d-b7b4-3efe286f7036",
   "metadata": {},
   "outputs": [
    {
     "data": {
      "text/plain": [
       "(2, 3)"
      ]
     },
     "execution_count": 13,
     "metadata": {},
     "output_type": "execute_result"
    }
   ],
   "source": [
    "b.shape #array shape"
   ]
  },
  {
   "cell_type": "code",
   "execution_count": 16,
   "id": "2406abfa-c3e4-406c-9585-a76a57e80c29",
   "metadata": {},
   "outputs": [
    {
     "data": {
      "text/plain": [
       "array([[[1, 2, 3],\n",
       "        [4, 5, 6],\n",
       "        [7, 8, 9]]])"
      ]
     },
     "execution_count": 16,
     "metadata": {},
     "output_type": "execute_result"
    }
   ],
   "source": [
    "c =np.array([[[1,2,3], #3-dimensinal array\n",
    "              [4,5,6],\n",
    "             [7,8,9]]])\n",
    "c"
   ]
  },
  {
   "cell_type": "code",
   "execution_count": 17,
   "id": "0aa31319-3eb9-4680-98ac-d553c2e864c2",
   "metadata": {},
   "outputs": [
    {
     "data": {
      "text/plain": [
       "(1, 3, 3)"
      ]
     },
     "execution_count": 17,
     "metadata": {},
     "output_type": "execute_result"
    }
   ],
   "source": [
    "c.shape"
   ]
  },
  {
   "cell_type": "code",
   "execution_count": 18,
   "id": "9b8a4cf1-2e69-4c5e-bd46-f1f7c28cddc9",
   "metadata": {},
   "outputs": [
    {
     "data": {
      "text/plain": [
       "3"
      ]
     },
     "execution_count": 18,
     "metadata": {},
     "output_type": "execute_result"
    }
   ],
   "source": [
    "c.ndim"
   ]
  },
  {
   "cell_type": "code",
   "execution_count": 19,
   "id": "04afada3-a483-4672-b47f-4fb333bfff08",
   "metadata": {},
   "outputs": [
    {
     "data": {
      "text/plain": [
       "numpy.ndarray"
      ]
     },
     "execution_count": 19,
     "metadata": {},
     "output_type": "execute_result"
    }
   ],
   "source": [
    "type(c)"
   ]
  },
  {
   "cell_type": "code",
   "execution_count": 24,
   "id": "94c7620c-1a9e-454c-85fc-e14f13d7f69b",
   "metadata": {},
   "outputs": [
    {
     "data": {
      "text/plain": [
       "(dtype('int32'), dtype('int32'), dtype('int32'))"
      ]
     },
     "execution_count": 24,
     "metadata": {},
     "output_type": "execute_result"
    }
   ],
   "source": [
    "a.dtype,b.dtype,c.dtype  #see data type in array"
   ]
  },
  {
   "cell_type": "code",
   "execution_count": 26,
   "id": "218a47f8-f056-42a5-8495-377a6f7777ac",
   "metadata": {},
   "outputs": [
    {
     "data": {
      "text/plain": [
       "(3, 6, 9)"
      ]
     },
     "execution_count": 26,
     "metadata": {},
     "output_type": "execute_result"
    }
   ],
   "source": [
    " a.size, b.size, c.size  #how many elements in array"
   ]
  },
  {
   "cell_type": "code",
   "execution_count": 29,
   "id": "6891d881-4375-4400-8364-f45b4b003e8c",
   "metadata": {},
   "outputs": [
    {
     "data": {
      "text/plain": [
       "(12, 24, 36)"
      ]
     },
     "execution_count": 29,
     "metadata": {},
     "output_type": "execute_result"
    }
   ],
   "source": [
    "a.nbytes,b.nbytes,c.nbytes #how many bytes consuned by array"
   ]
  },
  {
   "cell_type": "code",
   "execution_count": null,
   "id": "71018738-915d-499b-a1c4-6adee060e031",
   "metadata": {},
   "outputs": [],
   "source": []
  }
 ],
 "metadata": {
  "kernelspec": {
   "display_name": "Python 3 (ipykernel)",
   "language": "python",
   "name": "python3"
  },
  "language_info": {
   "codemirror_mode": {
    "name": "ipython",
    "version": 3
   },
   "file_extension": ".py",
   "mimetype": "text/x-python",
   "name": "python",
   "nbconvert_exporter": "python",
   "pygments_lexer": "ipython3",
   "version": "3.12.7"
  }
 },
 "nbformat": 4,
 "nbformat_minor": 5
}
