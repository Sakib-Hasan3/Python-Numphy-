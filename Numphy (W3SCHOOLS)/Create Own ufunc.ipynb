{
 "cells": [
  {
   "cell_type": "markdown",
   "id": "05d60699-d317-4475-b529-6af75a8ecdfb",
   "metadata": {},
   "source": [
    "# Create Your Own ufunc"
   ]
  },
  {
   "cell_type": "code",
   "execution_count": 1,
   "id": "0d51dc06-c796-4592-8455-ceacfbf935ab",
   "metadata": {},
   "outputs": [],
   "source": [
    "# The frompyfunc() method takes the following arguments:\n",
    "\n",
    "#function - the name of the function.\n",
    "#inputs - the number of input arguments (arrays).\n",
    "#outputs - the number of output arrays."
   ]
  },
  {
   "cell_type": "code",
   "execution_count": 4,
   "id": "ac543535-86f0-4c26-a1d3-5bfe1dc23adc",
   "metadata": {},
   "outputs": [
    {
     "name": "stdout",
     "output_type": "stream",
     "text": [
      "[6 8 10 12]\n"
     ]
    }
   ],
   "source": [
    "import numpy as np\n",
    "\n",
    "def myadd(x, y):\n",
    "    return x + y\n",
    "\n",
    "# Convert the Python function to a NumPy ufunc\n",
    "myadd = np.frompyfunc(myadd, 2, 1)\n",
    "\n",
    "# Test the function\n",
    "print(myadd([1, 2, 3, 4], [5, 6, 7, 8]))\n"
   ]
  },
  {
   "cell_type": "code",
   "execution_count": 5,
   "id": "a191cee6-51aa-48f7-a3f3-bf65216909fe",
   "metadata": {},
   "outputs": [
    {
     "name": "stdout",
     "output_type": "stream",
     "text": [
      "<class 'numpy.ufunc'>\n"
     ]
    }
   ],
   "source": [
    "import numpy as np\n",
    "\n",
    "print(type(np.add))"
   ]
  },
  {
   "cell_type": "code",
   "execution_count": 6,
   "id": "bf64060c-988c-40f1-aa36-b90283210aff",
   "metadata": {},
   "outputs": [
    {
     "name": "stdout",
     "output_type": "stream",
     "text": [
      "<class 'numpy._ArrayFunctionDispatcher'>\n"
     ]
    }
   ],
   "source": [
    "import numpy as np\n",
    "\n",
    "print(type(np.concatenate))"
   ]
  },
  {
   "cell_type": "code",
   "execution_count": null,
   "id": "c9a500fa-237f-4fda-b31d-6bcadbc3c887",
   "metadata": {},
   "outputs": [],
   "source": []
  }
 ],
 "metadata": {
  "kernelspec": {
   "display_name": "Python 3 (ipykernel)",
   "language": "python",
   "name": "python3"
  },
  "language_info": {
   "codemirror_mode": {
    "name": "ipython",
    "version": 3
   },
   "file_extension": ".py",
   "mimetype": "text/x-python",
   "name": "python",
   "nbconvert_exporter": "python",
   "pygments_lexer": "ipython3",
   "version": "3.12.7"
  }
 },
 "nbformat": 4,
 "nbformat_minor": 5
}
