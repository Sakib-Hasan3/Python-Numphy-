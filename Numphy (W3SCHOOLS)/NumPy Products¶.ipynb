{
 "cells": [
  {
   "cell_type": "markdown",
   "id": "c2cfc4db-227c-4eb8-bbc2-5548c9590254",
   "metadata": {},
   "source": [
    "# NumPy Products\n",
    "To find the product of the elements in an array, use the prod() function."
   ]
  },
  {
   "cell_type": "code",
   "execution_count": 12,
   "id": "477429a6-70f3-46b1-baf0-1dbe57c77165",
   "metadata": {},
   "outputs": [
    {
     "name": "stdout",
     "output_type": "stream",
     "text": [
      "24\n"
     ]
    }
   ],
   "source": [
    "import numpy as np\n",
    "\n",
    "arr = np.array([1, 2, 3, 4])\n",
    "\n",
    "x = np.prod(arr)  # omputes the product of all elements in the array 1×2×3×4=24\n",
    "\n",
    "print(x)"
   ]
  },
  {
   "cell_type": "code",
   "execution_count": 14,
   "id": "678f2121-1bd0-4165-b64e-d0af9d75c2e4",
   "metadata": {},
   "outputs": [
    {
     "name": "stdout",
     "output_type": "stream",
     "text": [
      "40320\n"
     ]
    }
   ],
   "source": [
    "import numpy as np\n",
    "\n",
    "arr1 = np.array([1, 2, 3, 4])\n",
    "arr2 = np.array([5, 6, 7, 8])\n",
    "\n",
    "x = np.prod([arr1, arr2]) # 40320 because 1*2*3*4*5*6*7*8 = 40320\n",
    "\n",
    "print(x)"
   ]
  },
  {
   "cell_type": "code",
   "execution_count": 15,
   "id": "6508a412-ea31-40a2-a6ec-9e9545244c21",
   "metadata": {},
   "outputs": [
    {
     "name": "stdout",
     "output_type": "stream",
     "text": [
      "[  24 1680]\n"
     ]
    }
   ],
   "source": [
    "import numpy as np\n",
    "\n",
    "arr1 = np.array([1, 2, 3, 4])\n",
    "arr2 = np.array([5, 6, 7, 8])\n",
    "\n",
    "newarr = np.prod([arr1, arr2], axis=1)\n",
    "\n",
    "print(newarr)"
   ]
  },
  {
   "cell_type": "code",
   "execution_count": null,
   "id": "792444a7-92b1-4121-984f-8dbd388eae03",
   "metadata": {},
   "outputs": [],
   "source": []
  }
 ],
 "metadata": {
  "kernelspec": {
   "display_name": "Python 3 (ipykernel)",
   "language": "python",
   "name": "python3"
  },
  "language_info": {
   "codemirror_mode": {
    "name": "ipython",
    "version": 3
   },
   "file_extension": ".py",
   "mimetype": "text/x-python",
   "name": "python",
   "nbconvert_exporter": "python",
   "pygments_lexer": "ipython3",
   "version": "3.12.7"
  }
 },
 "nbformat": 4,
 "nbformat_minor": 5
}
