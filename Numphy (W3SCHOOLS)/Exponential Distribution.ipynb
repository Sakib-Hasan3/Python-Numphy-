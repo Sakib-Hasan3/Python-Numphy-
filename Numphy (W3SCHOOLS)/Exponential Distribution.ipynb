{
 "cells": [
  {
   "cell_type": "markdown",
   "id": "3c12f537-285c-4856-93f8-7cee986ef16c",
   "metadata": {},
   "source": [
    "# Exponential Distribution"
   ]
  },
  {
   "cell_type": "code",
   "execution_count": 1,
   "id": "47cf04fc-d08e-4bd0-8cf3-b71ab0190c85",
   "metadata": {},
   "outputs": [],
   "source": [
    "# scale - inverse of rate ( see lam in poisson distribution ) defaults to 1.0.\n",
    "\n",
    "# - The shape of the returned array."
   ]
  },
  {
   "cell_type": "code",
   "execution_count": 2,
   "id": "e50b867c-478c-4a97-b7d3-2f55afdbf6d9",
   "metadata": {},
   "outputs": [
    {
     "name": "stdout",
     "output_type": "stream",
     "text": [
      "[[0.31843328 0.44134789 7.29724726]\n",
      " [1.6829057  1.31753622 0.7964891 ]]\n"
     ]
    }
   ],
   "source": [
    "from numpy import random\n",
    "\n",
    "x = random.exponential(scale=2, size=(2, 3))  # scale=2: This is the inverse of the rate parameter λ), meaning the mean of the distribution is 2.\n",
    "print(x)\n"
   ]
  },
  {
   "cell_type": "markdown",
   "id": "627b30b8-67b2-4c92-a30e-a76ee6388962",
   "metadata": {},
   "source": [
    "# Visualization of Exponential Distribution"
   ]
  },
  {
   "cell_type": "code",
   "execution_count": null,
   "id": "973293ad-3b0a-490e-9820-a768ce55c412",
   "metadata": {},
   "outputs": [],
   "source": [
    "from numpy import random\n",
    "import matplotlib.pyplot as plt\n",
    "import seaborn as sns\n",
    "\n",
    "sns.distplot(random.exponential(size=1000), hist=False)\n",
    "\n",
    "plt.show()"
   ]
  },
  {
   "cell_type": "code",
   "execution_count": null,
   "id": "4592642b-e6ac-4c94-abc3-1ed1adb974df",
   "metadata": {},
   "outputs": [],
   "source": []
  }
 ],
 "metadata": {
  "kernelspec": {
   "display_name": "Python 3 (ipykernel)",
   "language": "python",
   "name": "python3"
  },
  "language_info": {
   "codemirror_mode": {
    "name": "ipython",
    "version": 3
   },
   "file_extension": ".py",
   "mimetype": "text/x-python",
   "name": "python",
   "nbconvert_exporter": "python",
   "pygments_lexer": "ipython3",
   "version": "3.12.7"
  }
 },
 "nbformat": 4,
 "nbformat_minor": 5
}
