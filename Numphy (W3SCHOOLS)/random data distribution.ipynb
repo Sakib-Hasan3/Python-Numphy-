{
 "cells": [
  {
   "cell_type": "markdown",
   "id": "fc43ba89-58ab-4c95-bfd0-e41f121bd3d9",
   "metadata": {},
   "source": [
    "# Random Data Distribution"
   ]
  },
  {
   "cell_type": "code",
   "execution_count": 1,
   "id": "c7aa3f89-bec5-4fd9-8dfc-c9d20e3a69e6",
   "metadata": {},
   "outputs": [],
   "source": [
    "#choice() method allows us to specify the probability for each value."
   ]
  },
  {
   "cell_type": "code",
   "execution_count": null,
   "id": "31d3d086-63fa-48a3-a295-9cd9e3e4c857",
   "metadata": {},
   "outputs": [],
   "source": [
    "#Generate a 1-D array containing 100 values, where each value has to be 3, 5, 7 or 9.\n",
    "\n",
    "#1.The probability for the value to be 3 is set to be 10%\n",
    "\n",
    "#2.The probability for the value to be 5 is set to be 30%\n",
    "\n",
    "#3.The probability for the value to be 7 is set to be 60%\n",
    "\n",
    "#4.The probability for the value to be 9 is set to be 0%"
   ]
  },
  {
   "cell_type": "code",
   "execution_count": 3,
   "id": "a29a9c95-f5c7-4090-8c36-c81a2f28e10f",
   "metadata": {},
   "outputs": [
    {
     "name": "stdout",
     "output_type": "stream",
     "text": [
      "[7 7 7 7 7 5 5 5 5 5 7 3 7 7 7 5 7 5 7 7 5 7 3 3 7 3 5 7 7 7 7 5 5 5 7 7 7\n",
      " 5 7 3 7 7 7 5 5 7 5 7 7 5 5 7 5 7 7 5 7 7 5 7 7 7 7 7 3 7 5 5 5 5 7 7 7 7\n",
      " 3 7 5 7 5 5 5 7 7 7 5 7 5 3 7 7 7 5 7 7 7 5 7 7 7 5]\n"
     ]
    }
   ],
   "source": [
    "from numpy import random\n",
    "\n",
    "x = random.choice([3, 5, 7, 9], p=[0.1, 0.3, 0.6, 0.0], size=(100)) #the number is printed 100 times but number 9 is never included int this array \n",
    "\n",
    "print(x)"
   ]
  },
  {
   "cell_type": "code",
   "execution_count": 4,
   "id": "1305066f-e7bd-4f38-9605-9cdbb34f891e",
   "metadata": {},
   "outputs": [],
   "source": [
    "# two dimensional array"
   ]
  },
  {
   "cell_type": "code",
   "execution_count": 6,
   "id": "f8730109-f971-43df-a80b-1e042e5e4a1f",
   "metadata": {},
   "outputs": [
    {
     "name": "stdout",
     "output_type": "stream",
     "text": [
      "[[5 3 3 5 7]\n",
      " [5 7 5 5 5]\n",
      " [7 3 5 7 7]]\n"
     ]
    }
   ],
   "source": [
    "from numpy import random\n",
    "\n",
    "x = random.choice([3, 5, 7, 9], p=[0.1, 0.3, 0.6, 0.0], size=(3, 5)) #size(row,column) \n",
    "#number 9 is never included into this because the probability of number 9 is 0%\n",
    "\n",
    "print(x)"
   ]
  },
  {
   "cell_type": "code",
   "execution_count": null,
   "id": "8dd62cec-c003-4b42-951c-bd8979aed1e9",
   "metadata": {},
   "outputs": [],
   "source": []
  }
 ],
 "metadata": {
  "kernelspec": {
   "display_name": "Python 3 (ipykernel)",
   "language": "python",
   "name": "python3"
  },
  "language_info": {
   "codemirror_mode": {
    "name": "ipython",
    "version": 3
   },
   "file_extension": ".py",
   "mimetype": "text/x-python",
   "name": "python",
   "nbconvert_exporter": "python",
   "pygments_lexer": "ipython3",
   "version": "3.12.7"
  }
 },
 "nbformat": 4,
 "nbformat_minor": 5
}
