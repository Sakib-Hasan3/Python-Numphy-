{
 "cells": [
  {
   "cell_type": "code",
   "execution_count": null,
   "id": "daed5f84-c179-405f-958e-48744d78be46",
   "metadata": {},
   "outputs": [],
   "source": []
  }
 ],
 "metadata": {
  "kernelspec": {
   "display_name": "",
   "name": ""
  },
  "language_info": {
   "name": ""
  }
 },
 "nbformat": 4,
 "nbformat_minor": 5
}
