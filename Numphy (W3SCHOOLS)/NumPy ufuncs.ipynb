{
 "cells": [
  {
   "cell_type": "markdown",
   "id": "3395d95c-f49e-4da4-b46f-0c30705c6679",
   "metadata": {},
   "source": [
    "# NumPy ufuncs"
   ]
  },
  {
   "cell_type": "code",
   "execution_count": 1,
   "id": "995696b4-cbc4-4095-874e-f0ce69344dcb",
   "metadata": {},
   "outputs": [],
   "source": [
    "#where = boolean array or condition defining where the operations should take place.\n",
    "\n",
    "#dtype = defining the return type of elements.\n",
    "\n",
    "#out = output array where the return value should be copied."
   ]
  },
  {
   "cell_type": "code",
   "execution_count": null,
   "id": "526168f8-106e-4bd5-9ab0-c9f92c9b5c7a",
   "metadata": {},
   "outputs": [],
   "source": []
  }
 ],
 "metadata": {
  "kernelspec": {
   "display_name": "Python 3 (ipykernel)",
   "language": "python",
   "name": "python3"
  },
  "language_info": {
   "codemirror_mode": {
    "name": "ipython",
    "version": 3
   },
   "file_extension": ".py",
   "mimetype": "text/x-python",
   "name": "python",
   "nbconvert_exporter": "python",
   "pygments_lexer": "ipython3",
   "version": "3.12.7"
  }
 },
 "nbformat": 4,
 "nbformat_minor": 5
}
