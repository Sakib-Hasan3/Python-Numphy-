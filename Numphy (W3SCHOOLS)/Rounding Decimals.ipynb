{
 "cells": [
  {
   "cell_type": "markdown",
   "id": "e1be87a9-4ee6-4072-99f1-1f4e255dcc62",
   "metadata": {},
   "source": [
    "# Rounding Decimals"
   ]
  },
  {
   "cell_type": "code",
   "execution_count": 1,
   "id": "53fb8792-0976-4e8c-b67e-693cdddb023f",
   "metadata": {},
   "outputs": [],
   "source": [
    "# There are primarily five ways of rounding off decimals in NumPy:\n",
    "\n",
    "# 1.truncation\n",
    "# 2.fix\n",
    "#3.rounding\n",
    "#4.floor\n",
    "#5.ceil"
   ]
  },
  {
   "cell_type": "markdown",
   "id": "78304c14-f6b5-4c43-84e2-10b57d075198",
   "metadata": {},
   "source": [
    "# Truncation\n",
    "Remove the decimals, and return the float number closest to zero. Use the trunc() and fix() functions."
   ]
  },
  {
   "cell_type": "code",
   "execution_count": 2,
   "id": "b73f2ad4-52ab-4da1-8223-91e12ae107b4",
   "metadata": {},
   "outputs": [
    {
     "name": "stdout",
     "output_type": "stream",
     "text": [
      "[-3.  3.]\n"
     ]
    }
   ],
   "source": [
    "import numpy as np\n",
    "\n",
    "arr = np.trunc([-3.1666, 3.6667])\n",
    "\n",
    "print(arr)"
   ]
  },
  {
   "cell_type": "code",
   "execution_count": 3,
   "id": "61d212a3-f52b-4750-824a-826c56575ab1",
   "metadata": {},
   "outputs": [
    {
     "name": "stdout",
     "output_type": "stream",
     "text": [
      "[-3.  3.]\n"
     ]
    }
   ],
   "source": [
    "import numpy as np\n",
    "\n",
    "arr = np.fix([-3.1666, 3.6667])\n",
    "\n",
    "print(arr)"
   ]
  },
  {
   "cell_type": "markdown",
   "id": "ee3a5d2c-61be-4c82-8e7c-ec40da92515a",
   "metadata": {},
   "source": [
    "# Rounding\n",
    "The around() function increments preceding digit or decimal by 1 if >=5 else do nothing.\n",
    "\n",
    "If the decimal part is ≥ 0.5, it rounds up.\n",
    "If the decimal part is < 0.5, it rounds down."
   ]
  },
  {
   "cell_type": "code",
   "execution_count": 5,
   "id": "af5bf3e1-6601-473f-8b15-202b482308a7",
   "metadata": {},
   "outputs": [
    {
     "name": "stdout",
     "output_type": "stream",
     "text": [
      "3.17\n"
     ]
    }
   ],
   "source": [
    "import numpy as np\n",
    "\n",
    "arr = np.around(3.1666, 2)\n",
    "\n",
    "print(arr)"
   ]
  },
  {
   "cell_type": "markdown",
   "id": "538e6c61-e1a2-4590-b9ae-e067214e3a67",
   "metadata": {},
   "source": [
    "# Floor\n",
    "The floor() function rounds off decimal to nearest lower integer.\n",
    "\n",
    "E.g. floor of 3.166 is 3."
   ]
  },
  {
   "cell_type": "code",
   "execution_count": 6,
   "id": "0fbd834e-4b91-4eee-a7aa-c0d39db53931",
   "metadata": {},
   "outputs": [
    {
     "name": "stdout",
     "output_type": "stream",
     "text": [
      "[-4.  3.]\n"
     ]
    }
   ],
   "source": [
    "import numpy as np\n",
    "\n",
    "arr = np.floor([-3.1666, 3.6667])\n",
    "\n",
    "print(arr)"
   ]
  },
  {
   "cell_type": "code",
   "execution_count": null,
   "id": "bfe34c1c-26cd-4648-94c6-fed895769a31",
   "metadata": {},
   "outputs": [],
   "source": []
  }
 ],
 "metadata": {
  "kernelspec": {
   "display_name": "Python 3 (ipykernel)",
   "language": "python",
   "name": "python3"
  },
  "language_info": {
   "codemirror_mode": {
    "name": "ipython",
    "version": 3
   },
   "file_extension": ".py",
   "mimetype": "text/x-python",
   "name": "python",
   "nbconvert_exporter": "python",
   "pygments_lexer": "ipython3",
   "version": "3.12.7"
  }
 },
 "nbformat": 4,
 "nbformat_minor": 5
}
