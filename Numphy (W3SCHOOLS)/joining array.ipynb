{
 "cells": [
  {
   "cell_type": "markdown",
   "id": "4c1d695a-5adf-4f4a-9b6e-623b0d6254a9",
   "metadata": {},
   "source": [
    "# Joining Array"
   ]
  },
  {
   "cell_type": "code",
   "execution_count": 3,
   "id": "79ff9607-28b1-4b82-8bf2-01a840a555ea",
   "metadata": {},
   "outputs": [
    {
     "name": "stdout",
     "output_type": "stream",
     "text": [
      "[1 2 3 4 4 5 6]\n"
     ]
    }
   ],
   "source": [
    "#  to join to the concatenate() function\n",
    "\n",
    "import numpy as np\n",
    "a=np.array([1,2,3,4])\n",
    "b=np.array([4,5,6])\n",
    "c= np.concatenate((a,b))\n",
    "print(c)"
   ]
  },
  {
   "cell_type": "code",
   "execution_count": 4,
   "id": "07960ce4-701c-42b5-8a10-f30e9da685b2",
   "metadata": {},
   "outputs": [
    {
     "name": "stdout",
     "output_type": "stream",
     "text": [
      "[[1 2 5 6]\n",
      " [3 4 7 8]]\n"
     ]
    }
   ],
   "source": [
    "\"\"\"Example\n",
    "Join two 2-D arrays along rows (axis=1):\"\"\"\n",
    "\n",
    "import numpy as np\n",
    "\n",
    "arr1 = np.array([[1, 2], [3, 4]])\n",
    "\n",
    "arr2 = np.array([[5, 6], [7, 8]])\n",
    "\n",
    "arr = np.concatenate((arr1, arr2), axis=1)  #axis=1 means print column wise (2*4) \n",
    "\n",
    "print(arr)"
   ]
  },
  {
   "cell_type": "code",
   "execution_count": 6,
   "id": "07b6104b-96db-457c-904b-182fb6bc3313",
   "metadata": {},
   "outputs": [
    {
     "name": "stdout",
     "output_type": "stream",
     "text": [
      "[[1 2]\n",
      " [3 4]\n",
      " [5 6]\n",
      " [7 8]]\n"
     ]
    }
   ],
   "source": [
    "\"\"\"Example\n",
    "Join two 2-D arrays along rows (axis=0):\"\"\"\n",
    "\n",
    "import numpy as np\n",
    "\n",
    "arr1 = np.array([[1, 2], [3, 4]])\n",
    "\n",
    "arr2 = np.array([[5, 6], [7, 8]])\n",
    "\n",
    "arr = np.concatenate((arr1, arr2), axis=0)  #axis=0 means print row wise  (4*2)\n",
    "\n",
    "print(arr)"
   ]
  },
  {
   "cell_type": "markdown",
   "id": "115be60c-0f19-47a0-b8b6-0e8d6098ab8c",
   "metadata": {},
   "source": [
    "#  Using Stack Functions"
   ]
  },
  {
   "cell_type": "code",
   "execution_count": 7,
   "id": "cdaeff1f-8d10-456b-9f20-039a98693200",
   "metadata": {},
   "outputs": [],
   "source": [
    "# to join to the stack() method along with the axis"
   ]
  },
  {
   "cell_type": "code",
   "execution_count": 8,
   "id": "c32410bb-0ef1-4e6f-b142-f71fdb99d6cf",
   "metadata": {},
   "outputs": [
    {
     "name": "stdout",
     "output_type": "stream",
     "text": [
      "[[1 4]\n",
      " [2 5]\n",
      " [3 6]]\n"
     ]
    }
   ],
   "source": [
    "import numpy as np\n",
    "\n",
    "arr1 = np.array([1, 2, 3])\n",
    "\n",
    "arr2 = np.array([4, 5, 6])\n",
    "\n",
    "arr = np.stack((arr1, arr2), axis=1) #axis=1 column wise\n",
    "\n",
    "print(arr)"
   ]
  },
  {
   "cell_type": "code",
   "execution_count": 10,
   "id": "58e339b9-7c98-4a57-90ce-308e512987e6",
   "metadata": {},
   "outputs": [
    {
     "name": "stdout",
     "output_type": "stream",
     "text": [
      "[[1 2 3]\n",
      " [4 5 6]]\n"
     ]
    }
   ],
   "source": [
    "import numpy as np\n",
    "\n",
    "arr1 = np.array([1, 2, 3])\n",
    "\n",
    "arr2 = np.array([4, 5, 6])\n",
    "\n",
    "arr = np.stack((arr1, arr2), axis=0) #axis=0 row wise\n",
    "\n",
    "print(arr)"
   ]
  },
  {
   "cell_type": "markdown",
   "id": "3156ba33-4b90-4ecc-8f2f-c5d8a67b9302",
   "metadata": {},
   "source": [
    "# Stacking Along Rows"
   ]
  },
  {
   "cell_type": "code",
   "execution_count": 11,
   "id": "9761eb61-4139-4675-974b-4e899b6c79a0",
   "metadata": {},
   "outputs": [],
   "source": [
    "#  hstack() to stack along rows"
   ]
  },
  {
   "cell_type": "code",
   "execution_count": 12,
   "id": "d9756b4b-3e45-4dec-8e03-50262b0e9705",
   "metadata": {},
   "outputs": [
    {
     "name": "stdout",
     "output_type": "stream",
     "text": [
      "[1 2 3 4 5 6]\n"
     ]
    }
   ],
   "source": [
    "import numpy as np\n",
    "\n",
    "arr1 = np.array([1, 2, 3])\n",
    "\n",
    "arr2 = np.array([4, 5, 6])\n",
    "\n",
    "arr = np.hstack((arr1, arr2))\n",
    "\n",
    "print(arr)"
   ]
  },
  {
   "cell_type": "markdown",
   "id": "3bc73fd5-7ffa-4178-a131-3dd45c1ced91",
   "metadata": {},
   "source": [
    "# Stacking Along Columns"
   ]
  },
  {
   "cell_type": "code",
   "execution_count": 13,
   "id": "4db29515-c7f6-4555-82e3-fdca9485c995",
   "metadata": {},
   "outputs": [],
   "source": [
    "#vstack()  to stack along columns.\n"
   ]
  },
  {
   "cell_type": "code",
   "execution_count": 14,
   "id": "ded7cf23-4ae4-42f4-a2ed-502c24957c96",
   "metadata": {},
   "outputs": [
    {
     "name": "stdout",
     "output_type": "stream",
     "text": [
      "[[1 2 3]\n",
      " [4 5 6]]\n"
     ]
    }
   ],
   "source": [
    "import numpy as np\n",
    "\n",
    "arr1 = np.array([1, 2, 3])\n",
    "\n",
    "arr2 = np.array([4, 5, 6])\n",
    "\n",
    "arr = np.vstack((arr1, arr2))\n",
    "\n",
    "print(arr)"
   ]
  },
  {
   "cell_type": "code",
   "execution_count": 15,
   "id": "f475b573-12fa-4987-a9ad-1b297d0f7699",
   "metadata": {},
   "outputs": [
    {
     "name": "stdout",
     "output_type": "stream",
     "text": [
      "[[[1 4]\n",
      "  [2 5]\n",
      "  [3 6]]]\n"
     ]
    }
   ],
   "source": [
    "import numpy as np\n",
    "\n",
    "arr1 = np.array([1, 2, 3])\n",
    "\n",
    "arr2 = np.array([4, 5, 6])\n",
    "\n",
    "arr = np.dstack((arr1, arr2))\n",
    "\n",
    "print(arr)\n",
    "print(\n"
   ]
  },
  {
   "cell_type": "code",
   "execution_count": null,
   "id": "90edd474-4f99-47c7-8a39-31e7d438803f",
   "metadata": {},
   "outputs": [],
   "source": []
  }
 ],
 "metadata": {
  "kernelspec": {
   "display_name": "Python 3 (ipykernel)",
   "language": "python",
   "name": "python3"
  },
  "language_info": {
   "codemirror_mode": {
    "name": "ipython",
    "version": 3
   },
   "file_extension": ".py",
   "mimetype": "text/x-python",
   "name": "python",
   "nbconvert_exporter": "python",
   "pygments_lexer": "ipython3",
   "version": "3.12.7"
  }
 },
 "nbformat": 4,
 "nbformat_minor": 5
}
