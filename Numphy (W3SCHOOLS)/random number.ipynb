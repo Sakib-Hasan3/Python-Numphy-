{
 "cells": [
  {
   "cell_type": "markdown",
   "id": "8aa37236-4852-49a3-bc5e-855abcefd39d",
   "metadata": {},
   "source": [
    "# random numbers "
   ]
  },
  {
   "cell_type": "code",
   "execution_count": 5,
   "id": "6f596d8a-4250-40bf-b133-678d8bcadc9e",
   "metadata": {},
   "outputs": [
    {
     "data": {
      "text/plain": [
       "array([0.35404909, 0.0651594 , 0.90466885, 0.17134846, 0.2972832 ])"
      ]
     },
     "execution_count": 5,
     "metadata": {},
     "output_type": "execute_result"
    }
   ],
   "source": [
    "# if limit or value is setting into this it creates random number which is less than one \n",
    "arr = np.random.rand(5)  #create 5 random number \n",
    "arr"
   ]
  },
  {
   "cell_type": "code",
   "execution_count": 6,
   "id": "8569c8bc-6ccd-4132-be19-aef46d6d8b8d",
   "metadata": {},
   "outputs": [
    {
     "data": {
      "text/plain": [
       "array([[0.76570993, 0.35205626, 0.58472091, 0.02925751],\n",
       "       [0.00620287, 0.19786024, 0.39324195, 0.76689334],\n",
       "       [0.98288433, 0.25129463, 0.66539944, 0.63678437]])"
      ]
     },
     "execution_count": 6,
     "metadata": {},
     "output_type": "execute_result"
    }
   ],
   "source": [
    "#two dimensional array \n",
    "arr= np.random.rand(3,4) #row =3,column =4\n",
    "arr"
   ]
  },
  {
   "cell_type": "code",
   "execution_count": 8,
   "id": "01f22dfd-68b7-4e0f-85e8-f8571f95965f",
   "metadata": {},
   "outputs": [
    {
     "data": {
      "text/plain": [
       "array([[[0.25682627, 0.34900168, 0.65652479],\n",
       "        [0.78907353, 0.53178261, 0.5202054 ],\n",
       "        [0.48459838, 0.44708931, 0.44788736],\n",
       "        [0.44949461, 0.898503  , 0.31055181]],\n",
       "\n",
       "       [[0.07451295, 0.25864269, 0.23181971],\n",
       "        [0.69006144, 0.24032792, 0.68459935],\n",
       "        [0.04155579, 0.79430279, 0.53730865],\n",
       "        [0.1609113 , 0.35552856, 0.14990592]],\n",
       "\n",
       "       [[0.7671959 , 0.5332415 , 0.71920627],\n",
       "        [0.48201936, 0.05527747, 0.1040797 ],\n",
       "        [0.13707001, 0.47055404, 0.09522816],\n",
       "        [0.49059165, 0.22628209, 0.77905247]]])"
      ]
     },
     "execution_count": 8,
     "metadata": {},
     "output_type": "execute_result"
    }
   ],
   "source": [
    "#three dimensional array \n",
    "arr=np.random.rand(3,4,3) #(divide,row,column)\n",
    "arr"
   ]
  },
  {
   "cell_type": "code",
   "execution_count": 11,
   "id": "c758ba4b-5d5a-4b2b-a5c2-ab693274c29e",
   "metadata": {},
   "outputs": [
    {
     "name": "stdout",
     "output_type": "stream",
     "text": [
      "[-0.11143787  0.3388834  -0.84330284 -0.43959198  0.60947225]\n"
     ]
    }
   ],
   "source": [
    "import numpy as np\n",
    "\n",
    "arr = np.random.randn(5)  # Generates 5 random numbers from a normal distribution\n",
    "\n",
    "print(arr)\n"
   ]
  },
  {
   "cell_type": "code",
   "execution_count": 12,
   "id": "be440032-3f09-4121-aad0-35dd9a89ceeb",
   "metadata": {},
   "outputs": [
    {
     "name": "stdout",
     "output_type": "stream",
     "text": [
      "[5 4 7 0 7 1 4 6 0 5]\n"
     ]
    }
   ],
   "source": [
    "import numpy as np\n",
    "\n",
    "arr = np.random.randint(0,10,10)  # (start,end,number of element)\n",
    "\n",
    "print(arr)\n"
   ]
  },
  {
   "cell_type": "code",
   "execution_count": 13,
   "id": "2b526b6c-9175-4240-9654-1f60e824e2df",
   "metadata": {},
   "outputs": [
    {
     "ename": "AttributeError",
     "evalue": "module 'numpy.random' has no attribute 'randfloat'",
     "output_type": "error",
     "traceback": [
      "\u001b[1;31m---------------------------------------------------------------------------\u001b[0m",
      "\u001b[1;31mAttributeError\u001b[0m                            Traceback (most recent call last)",
      "Cell \u001b[1;32mIn[13], line 3\u001b[0m\n\u001b[0;32m      1\u001b[0m \u001b[38;5;28;01mimport\u001b[39;00m \u001b[38;5;21;01mnumpy\u001b[39;00m \u001b[38;5;28;01mas\u001b[39;00m \u001b[38;5;21;01mnp\u001b[39;00m\n\u001b[1;32m----> 3\u001b[0m arr \u001b[38;5;241m=\u001b[39m np\u001b[38;5;241m.\u001b[39mrandom\u001b[38;5;241m.\u001b[39mrandfloat(\u001b[38;5;241m0\u001b[39m,\u001b[38;5;241m10\u001b[39m,\u001b[38;5;241m10\u001b[39m)  \u001b[38;5;66;03m# (start,end,number of element)\u001b[39;00m\n\u001b[0;32m      5\u001b[0m \u001b[38;5;28mprint\u001b[39m(arr)\n",
      "\u001b[1;31mAttributeError\u001b[0m: module 'numpy.random' has no attribute 'randfloat'"
     ]
    }
   ],
   "source": [
    "import numpy as np\n",
    "\n",
    "arr = np.random.randfloat(0,10,10)  # (start,end,number of element)\n",
    "\n",
    "print(arr)\n"
   ]
  },
  {
   "cell_type": "code",
   "execution_count": null,
   "id": "9179c3a3-a447-4605-a9fb-c62bdf55ec8c",
   "metadata": {},
   "outputs": [],
   "source": []
  }
 ],
 "metadata": {
  "kernelspec": {
   "display_name": "Python 3 (ipykernel)",
   "language": "python",
   "name": "python3"
  },
  "language_info": {
   "codemirror_mode": {
    "name": "ipython",
    "version": 3
   },
   "file_extension": ".py",
   "mimetype": "text/x-python",
   "name": "python",
   "nbconvert_exporter": "python",
   "pygments_lexer": "ipython3",
   "version": "3.12.7"
  }
 },
 "nbformat": 4,
 "nbformat_minor": 5
}
