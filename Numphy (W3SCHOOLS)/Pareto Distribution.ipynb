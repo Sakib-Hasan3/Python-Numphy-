{
 "cells": [
  {
   "cell_type": "markdown",
   "id": "b15cae7c-08ca-4b35-aa32-7c2be40407ca",
   "metadata": {},
   "source": [
    "# Pareto Distribution"
   ]
  },
  {
   "cell_type": "code",
   "execution_count": 5,
   "id": "c410fb98-3ef1-46c7-a5d3-39fee819f3f1",
   "metadata": {},
   "outputs": [],
   "source": [
    "# a - shape parameter.\n",
    "\n",
    "# size - The shape of the returned array."
   ]
  },
  {
   "cell_type": "code",
   "execution_count": 7,
   "id": "f3c62c1a-7f3e-403e-9b62-4cc130504db3",
   "metadata": {},
   "outputs": [
    {
     "name": "stdout",
     "output_type": "stream",
     "text": [
      "[[0.01492122 0.19429254 0.89103693]\n",
      " [0.29227361 2.44051184 0.51332249]]\n"
     ]
    }
   ],
   "source": [
    "from numpy import random\n",
    "\n",
    "x = random.pareto(a=2, size=(2, 3))  #The shape parameter (α), which controls the heaviness of the distribution's tail.\n",
    "\n",
    "print(x)"
   ]
  },
  {
   "cell_type": "markdown",
   "id": "718c0780-9ead-4d5c-8b9b-4969ff9291da",
   "metadata": {},
   "source": [
    "# visualization of Pareto Distribution"
   ]
  }
 ],
 "metadata": {
  "kernelspec": {
   "display_name": "Python 3 (ipykernel)",
   "language": "python",
   "name": "python3"
  },
  "language_info": {
   "codemirror_mode": {
    "name": "ipython",
    "version": 3
   },
   "file_extension": ".py",
   "mimetype": "text/x-python",
   "name": "python",
   "nbconvert_exporter": "python",
   "pygments_lexer": "ipython3",
   "version": "3.12.7"
  }
 },
 "nbformat": 4,
 "nbformat_minor": 5
}
