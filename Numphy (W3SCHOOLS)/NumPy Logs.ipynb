{
 "cells": [
  {
   "cell_type": "markdown",
   "id": "0480f5b7-e55d-42ea-8018-f7b6b6a5c5d6",
   "metadata": {},
   "source": [
    "# NumPy Logs"
   ]
  },
  {
   "cell_type": "code",
   "execution_count": 1,
   "id": "b0b338e7-13b2-4396-8cc7-43c97122abd7",
   "metadata": {},
   "outputs": [],
   "source": [
    "#NumPy provides functions to perform log at the base 2, e and 10."
   ]
  },
  {
   "cell_type": "code",
   "execution_count": 2,
   "id": "6d0b04f8-1a6a-4574-ac88-1d513e8bd093",
   "metadata": {},
   "outputs": [
    {
     "name": "stdout",
     "output_type": "stream",
     "text": [
      "[0.         1.         1.5849625  2.         2.32192809 2.5849625\n",
      " 2.80735492 3.         3.169925  ]\n"
     ]
    }
   ],
   "source": [
    "import numpy as np\n",
    "\n",
    "arr = np.arange(1, 10)  # Creates an array [1, 2, 3, ..., 9]\n",
    "\n",
    "print(np.log2(arr))\n"
   ]
  },
  {
   "cell_type": "markdown",
   "id": "6fd75d24-b78e-4a8f-9a38-243b853c2055",
   "metadata": {},
   "source": [
    "# Natural Log, or Log at Base e"
   ]
  },
  {
   "cell_type": "code",
   "execution_count": 3,
   "id": "48042b44-3134-4e3e-a927-8b1f08f1dd2d",
   "metadata": {},
   "outputs": [
    {
     "name": "stdout",
     "output_type": "stream",
     "text": [
      "[0.         0.69314718 1.09861229 1.38629436 1.60943791 1.79175947\n",
      " 1.94591015 2.07944154 2.19722458]\n"
     ]
    }
   ],
   "source": [
    "import numpy as np\n",
    "\n",
    "arr = np.arange(1, 10)  # Creates an array [1, 2, 3, ..., 9]\n",
    "\n",
    "print(np.log(arr)) # ln(1) = 0.000 , ln(2) ≈ 0.693\n"
   ]
  },
  {
   "cell_type": "markdown",
   "id": "b14eee0f-3854-404c-84d8-69b9b03def84",
   "metadata": {},
   "source": [
    "# Log at Any Base\n",
    "NumPy does not provide any function to take log at any base, so we can use the frompyfunc() function along with inbuilt function math.log() with two input parameters and one output parameter:"
   ]
  },
  {
   "cell_type": "code",
   "execution_count": 5,
   "id": "2cd4f798-ce3f-4c77-b2fd-010ed7d8da9b",
   "metadata": {},
   "outputs": [
    {
     "name": "stdout",
     "output_type": "stream",
     "text": [
      "1.7005483074552052\n"
     ]
    }
   ],
   "source": [
    "from math import log\n",
    "import numpy as np\n",
    "\n",
    "nplog = np.frompyfunc(log, 2, 1) \n",
    "print(nplog(100, 15))\n",
    "\n",
    "# np.frompyfunc() is used to convert a Python function (log in this case) into a NumPy universal function (ufunc).\n",
    "# 1. The first argument is the function (log).\n",
    "# 2. The second argument (2) specifies that the function takes 2 inputs (i.e., log(x, base)).\n",
    "# 3. The third argument (1) specifies that the function returns 1 output.\n"
   ]
  },
  {
   "cell_type": "code",
   "execution_count": null,
   "id": "04dd9554-1ef1-46ec-a62d-1dc37da89dee",
   "metadata": {},
   "outputs": [],
   "source": []
  }
 ],
 "metadata": {
  "kernelspec": {
   "display_name": "Python 3 (ipykernel)",
   "language": "python",
   "name": "python3"
  },
  "language_info": {
   "codemirror_mode": {
    "name": "ipython",
    "version": 3
   },
   "file_extension": ".py",
   "mimetype": "text/x-python",
   "name": "python",
   "nbconvert_exporter": "python",
   "pygments_lexer": "ipython3",
   "version": "3.12.7"
  }
 },
 "nbformat": 4,
 "nbformat_minor": 5
}
