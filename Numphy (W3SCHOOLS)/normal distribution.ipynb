{
 "cells": [
  {
   "cell_type": "markdown",
   "id": "defaa563-0cfc-46ba-b936-f7633c66e6f6",
   "metadata": {},
   "source": [
    "# normal distribution"
   ]
  },
  {
   "cell_type": "code",
   "execution_count": 4,
   "id": "8c5ba5f6-0509-4eaf-9619-0e30eee6402a",
   "metadata": {},
   "outputs": [],
   "source": [
    "# random.normal() method to get a Normal Data Distribution.\n"
   ]
  },
  {
   "cell_type": "code",
   "execution_count": 6,
   "id": "ad52cf13-bf08-4b74-bb8f-7698bbeaac81",
   "metadata": {},
   "outputs": [
    {
     "name": "stdout",
     "output_type": "stream",
     "text": [
      "[[-0.03081069  0.72751615 -0.67297723]\n",
      " [ 1.51959651  1.35592178 -0.10763183]]\n"
     ]
    }
   ],
   "source": [
    "from numpy import random\n",
    "\n",
    "x = random.normal(size=(2, 3)) #row=2 column =3\n",
    "\n",
    "print(x)"
   ]
  },
  {
   "cell_type": "code",
   "execution_count": 7,
   "id": "8c20c861-cce0-42da-9d9b-9c8f15f85c60",
   "metadata": {},
   "outputs": [
    {
     "name": "stdout",
     "output_type": "stream",
     "text": [
      "[[2.78081554 3.47249363 1.1798009 ]\n",
      " [1.50733185 1.16687037 1.45746072]]\n"
     ]
    }
   ],
   "source": [
    "from numpy import random\n",
    "\n",
    "x = random.normal(loc=1, scale=2, size=(2, 3)) #mean=\n",
    "\n",
    "print(x)"
   ]
  },
  {
   "cell_type": "code",
   "execution_count": null,
   "id": "62f03d38-d61a-4a9b-957d-32a487e4c5c1",
   "metadata": {},
   "outputs": [],
   "source": []
  }
 ],
 "metadata": {
  "kernelspec": {
   "display_name": "Python 3 (ipykernel)",
   "language": "python",
   "name": "python3"
  },
  "language_info": {
   "codemirror_mode": {
    "name": "ipython",
    "version": 3
   },
   "file_extension": ".py",
   "mimetype": "text/x-python",
   "name": "python",
   "nbconvert_exporter": "python",
   "pygments_lexer": "ipython3",
   "version": "3.12.7"
  }
 },
 "nbformat": 4,
 "nbformat_minor": 5
}
