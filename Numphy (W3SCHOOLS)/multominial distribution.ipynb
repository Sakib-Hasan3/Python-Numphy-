{
 "cells": [
  {
   "cell_type": "markdown",
   "id": "dd2f45a4-ca39-4f34-a883-6315d4fea585",
   "metadata": {},
   "source": [
    "# Multinominial Distribution "
   ]
  },
  {
   "cell_type": "code",
   "execution_count": 1,
   "id": "829c69d2-52a6-4cbc-9d37-49bea87d8197",
   "metadata": {},
   "outputs": [],
   "source": [
    "#n - number of possible outcomes (e.g. 6 for dice roll).\n",
    "\n",
    "#pvals - list of probabilties of outcomes (e.g. [1/6, 1/6, 1/6, 1/6, 1/6, 1/6] for dice roll).\n",
    "\n",
    "#size - The shape of the returned array."
   ]
  },
  {
   "cell_type": "code",
   "execution_count": 2,
   "id": "8eb84c70-ecaf-4c44-b72d-83b5d43dbe10",
   "metadata": {},
   "outputs": [
    {
     "name": "stdout",
     "output_type": "stream",
     "text": [
      "[0 1 1 2 1 1]\n"
     ]
    }
   ],
   "source": [
    "from numpy import random \n",
    "\n",
    "x = random.multinomial(n=6, pvals=[1/6, 1/6, 1/6, 1/6, 1/6, 1/6])\n",
    "\n",
    "print(x)"
   ]
  },
  {
   "cell_type": "code",
   "execution_count": null,
   "id": "19ee509a-45f0-4fb0-8034-0b4d751de62b",
   "metadata": {},
   "outputs": [],
   "source": []
  }
 ],
 "metadata": {
  "kernelspec": {
   "display_name": "Python 3 (ipykernel)",
   "language": "python",
   "name": "python3"
  },
  "language_info": {
   "codemirror_mode": {
    "name": "ipython",
    "version": 3
   },
   "file_extension": ".py",
   "mimetype": "text/x-python",
   "name": "python",
   "nbconvert_exporter": "python",
   "pygments_lexer": "ipython3",
   "version": "3.12.7"
  }
 },
 "nbformat": 4,
 "nbformat_minor": 5
}
