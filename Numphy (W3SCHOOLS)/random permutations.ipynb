{
 "cells": [
  {
   "cell_type": "markdown",
   "id": "50720d64-17e0-4be1-9557-5cfbc128788e",
   "metadata": {},
   "source": [
    "# random permutations"
   ]
  },
  {
   "cell_type": "code",
   "execution_count": 1,
   "id": "d6e653c9-1666-4b36-b41b-e5c203961b47",
   "metadata": {},
   "outputs": [],
   "source": [
    "# refers to an arrangement of elements. e.g. [3, 2, 1] is a permutation of [1, 2, 3] and vice-versa.\n",
    "\n",
    "#The NumPy Random module provides two methods for this: shuffle() and permutation()"
   ]
  },
  {
   "cell_type": "code",
   "execution_count": 9,
   "id": "8f4b4efb-0937-4f75-945c-89a214bbd0e4",
   "metadata": {},
   "outputs": [
    {
     "name": "stdout",
     "output_type": "stream",
     "text": [
      "[5 2 4 3 1]\n"
     ]
    }
   ],
   "source": [
    "from numpy import random\n",
    "import numpy as np\n",
    "a=np.array([1,2,3,4,5])\n",
    "random.shuffle(a) #random shuffle every time\n",
    "print(a)"
   ]
  },
  {
   "cell_type": "code",
   "execution_count": 11,
   "id": "7bd65545-91e7-48e2-ade6-a9c595951d54",
   "metadata": {},
   "outputs": [
    {
     "name": "stdout",
     "output_type": "stream",
     "text": [
      "[4 3 2 1 5]\n"
     ]
    }
   ],
   "source": [
    "from numpy import random\n",
    "import numpy as np\n",
    "\n",
    "arr = np.array([1, 2, 3, 4, 5])\n",
    "\n",
    "print(random.permutation(arr)) #returns a new array with elements randomly shuffled.\n"
   ]
  },
  {
   "cell_type": "code",
   "execution_count": 12,
   "id": "a91bc286-5a99-4448-8940-3099cd41aaee",
   "metadata": {},
   "outputs": [
    {
     "name": "stdout",
     "output_type": "stream",
     "text": [
      "[5 4 3 2 1]\n"
     ]
    }
   ],
   "source": [
    "a = np.array([1, 2, 3, 4, 5])\n",
    "a = a[::-1]  # Reverse the array\n",
    "print(a)\n"
   ]
  },
  {
   "cell_type": "code",
   "execution_count": null,
   "id": "0f23e9b1-2821-47a7-b573-26e5df4ac765",
   "metadata": {},
   "outputs": [],
   "source": []
  }
 ],
 "metadata": {
  "kernelspec": {
   "display_name": "Python 3 (ipykernel)",
   "language": "python",
   "name": "python3"
  },
  "language_info": {
   "codemirror_mode": {
    "name": "ipython",
    "version": 3
   },
   "file_extension": ".py",
   "mimetype": "text/x-python",
   "name": "python",
   "nbconvert_exporter": "python",
   "pygments_lexer": "ipython3",
   "version": "3.12.7"
  }
 },
 "nbformat": 4,
 "nbformat_minor": 5
}
