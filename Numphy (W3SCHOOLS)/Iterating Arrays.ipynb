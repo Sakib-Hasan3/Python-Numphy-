{
 "cells": [
  {
   "cell_type": "code",
   "execution_count": null,
   "id": "be15d617-bc44-4121-ab56-41f424289bcc",
   "metadata": {},
   "outputs": [],
   "source": []
  }
 ],
 "metadata": {
  "kernelspec": {
   "display_name": "",
   "name": ""
  },
  "language_info": {
   "name": ""
  }
 },
 "nbformat": 4,
 "nbformat_minor": 5
}
