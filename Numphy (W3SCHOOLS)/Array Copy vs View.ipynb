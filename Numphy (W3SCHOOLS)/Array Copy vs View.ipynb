{
 "cells": [
  {
   "cell_type": "markdown",
   "id": "bbd0069c-10bb-4f7b-9496-78434056f388",
   "metadata": {},
   "source": [
    "# NumPy Array Copy vs View\n"
   ]
  },
  {
   "cell_type": "markdown",
   "id": "5dfb29f5-b9b5-4dea-aa04-3d6c0cfd2984",
   "metadata": {},
   "source": [
    "# COPY"
   ]
  },
  {
   "cell_type": "code",
   "execution_count": 1,
   "id": "65bd6c99-e71a-431c-985a-9435ba046acb",
   "metadata": {},
   "outputs": [
    {
     "name": "stdout",
     "output_type": "stream",
     "text": [
      "[42  2  3  4  5]\n",
      "[1 2 3 4 5]\n"
     ]
    }
   ],
   "source": [
    "\"\"\"Example\n",
    "Make a copy, change the original array, and display both arrays: \"\"\"\n",
    "\n",
    "import numpy as np\n",
    "\n",
    "arr = np.array([1, 2, 3, 4, 5])\n",
    "x = arr.copy()\n",
    "arr[0] = 42\n",
    "\n",
    "print(arr)\n",
    "print(x)"
   ]
  },
  {
   "cell_type": "markdown",
   "id": "240824d1-c1a5-4156-bba9-03f18f391f64",
   "metadata": {},
   "source": [
    "# view"
   ]
  },
  {
   "cell_type": "code",
   "execution_count": 2,
   "id": "6b0beee1-21e6-4320-bb52-69f69a828cb1",
   "metadata": {},
   "outputs": [
    {
     "name": "stdout",
     "output_type": "stream",
     "text": [
      "[42  2  3  4  5]\n",
      "[42  2  3  4  5]\n"
     ]
    }
   ],
   "source": [
    "\"\"\"\n",
    "Example\n",
    "Make a view, change the original array, and display both arrays: \"\"\"\n",
    "\n",
    "import numpy as np\n",
    "\n",
    "arr = np.array([1, 2, 3, 4, 5])\n",
    "x = arr.view()\n",
    "arr[0] = 42\n",
    "\n",
    "print(arr)\n",
    "print(x)"
   ]
  },
  {
   "cell_type": "markdown",
   "id": "bd113f6b-8bac-4c77-a181-c606eba67e7d",
   "metadata": {},
   "source": [
    "# Make Changes in the VIEW:"
   ]
  },
  {
   "cell_type": "code",
   "execution_count": 3,
   "id": "19696359-a3cf-4d6d-864d-6b893f3104ad",
   "metadata": {},
   "outputs": [
    {
     "name": "stdout",
     "output_type": "stream",
     "text": [
      "[31  2  3  4  5]\n",
      "[31  2  3  4  5]\n"
     ]
    }
   ],
   "source": [
    "\"\"\"Example\n",
    "Make a view, change the view, and display both arrays: \"\"\"\n",
    "\n",
    "import numpy as np\n",
    "\n",
    "arr = np.array([1, 2, 3, 4, 5])\n",
    "x = arr.view()\n",
    "x[0] = 31\n",
    "\n",
    "print(arr)\n",
    "print(x)"
   ]
  },
  {
   "cell_type": "markdown",
   "id": "a92c117c-064c-4f9c-a89e-4242688b84fa",
   "metadata": {},
   "source": [
    "# Check if Array Owns its Data\n",
    " "
   ]
  },
  {
   "cell_type": "code",
   "execution_count": 4,
   "id": "e65d0696-ef54-4c9d-81cf-d2a52162b18e",
   "metadata": {},
   "outputs": [
    {
     "name": "stdout",
     "output_type": "stream",
     "text": [
      "None\n",
      "[1 2 3 4 5]\n"
     ]
    }
   ],
   "source": [
    "\"\"\"Example\n",
    "Print the value of the base attribute to check if an array owns it's data or not: \"\"\"\n",
    "\n",
    "import numpy as np\n",
    "\n",
    "arr = np.array([1, 2, 3, 4, 5])\n",
    "\n",
    "x = arr.copy()\n",
    "y = arr.view()\n",
    "\n",
    "print(x.base)\n",
    "print(y.base)"
   ]
  },
  {
   "cell_type": "code",
   "execution_count": null,
   "id": "64e1c04d-c67a-423b-8850-19c228958751",
   "metadata": {},
   "outputs": [],
   "source": []
  }
 ],
 "metadata": {
  "kernelspec": {
   "display_name": "Python 3 (ipykernel)",
   "language": "python",
   "name": "python3"
  },
  "language_info": {
   "codemirror_mode": {
    "name": "ipython",
    "version": 3
   },
   "file_extension": ".py",
   "mimetype": "text/x-python",
   "name": "python",
   "nbconvert_exporter": "python",
   "pygments_lexer": "ipython3",
   "version": "3.12.7"
  }
 },
 "nbformat": 4,
 "nbformat_minor": 5
}
